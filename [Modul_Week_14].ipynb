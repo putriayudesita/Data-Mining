{
  "cells": [
    {
      "cell_type": "markdown",
      "metadata": {
        "id": "view-in-github",
        "colab_type": "text"
      },
      "source": [
        "<a href=\"https://colab.research.google.com/github/putriayudesita/Data-Mining/blob/main/%5BModul_Week_14%5D.ipynb\" target=\"_parent\"><img src=\"https://colab.research.google.com/assets/colab-badge.svg\" alt=\"Open In Colab\"/></a>"
      ]
    },
    {
      "cell_type": "markdown",
      "id": "3a2d9e3d-dc67-4e01-a50b-e1e9cbfbac34",
      "metadata": {
        "tags": [],
        "id": "3a2d9e3d-dc67-4e01-a50b-e1e9cbfbac34"
      },
      "source": [
        "## Repeated Stratification Hold Out"
      ]
    },
    {
      "cell_type": "code",
      "execution_count": null,
      "id": "5a34c50b-b70c-4afb-99a4-39901385afe1",
      "metadata": {
        "id": "5a34c50b-b70c-4afb-99a4-39901385afe1"
      },
      "outputs": [],
      "source": [
        "import numpy as np\n",
        "from sklearn.datasets import load_iris\n",
        "from sklearn.model_selection import ...\n",
        "from sklearn.linear_model import ....\n",
        "from sklearn.metrics import accuracy_score"
      ]
    },
    {
      "cell_type": "code",
      "execution_count": null,
      "id": "c0d6b656-a44d-4421-84ea-a1702a54ffcb",
      "metadata": {
        "id": "c0d6b656-a44d-4421-84ea-a1702a54ffcb"
      },
      "outputs": [],
      "source": [
        "# Load Iris dataset\n",
        "iris = load_iris()\n",
        "X, y = iris.data, iris.target"
      ]
    },
    {
      "cell_type": "code",
      "execution_count": null,
      "id": "c3ff9a33-bb04-491a-aa85-b09e2133def2",
      "metadata": {
        "id": "c3ff9a33-bb04-491a-aa85-b09e2133def2"
      },
      "outputs": [],
      "source": [
        "# Define the number of iterations for Repeated Stratification Hold Out\n",
        "n_iterations = 10"
      ]
    },
    {
      "cell_type": "code",
      "execution_count": null,
      "id": "3c366f57-b397-4f0b-bfff-12791ff939e2",
      "metadata": {
        "id": "3c366f57-b397-4f0b-bfff-12791ff939e2"
      },
      "outputs": [],
      "source": [
        "# Initialize an empty list to store the accuracy scores\n",
        "accuracy_scores = []"
      ]
    },
    {
      "cell_type": "code",
      "execution_count": null,
      "id": "1b258002-b17f-4947-9109-be404b1d092a",
      "metadata": {
        "id": "1b258002-b17f-4947-9109-be404b1d092a"
      },
      "outputs": [],
      "source": [
        "skf = ...(n_splits=5, shuffle=True, random_state=42)\n",
        "for _ in range(n_iterations):\n",
        "    # Split the data into training and testing sets\n",
        "    for train_index, test_index in skf.split(X, y):\n",
        "        X_train, X_test = X[...], X[...]\n",
        "        y_train, y_test = y[...], y[...]\n",
        "\n",
        "        # Train a Logistic Regression model with increased max_iter\n",
        "        model = ...(max_iter=1000)\n",
        "        model.fit(.., ..)\n",
        "\n",
        "        # Evaluate the model on the testing set\n",
        "        y_pred = model.predict(X_test)\n",
        "        accuracy = accuracy_score(.., ...)\n",
        "        accuracy_scores.append(accuracy)"
      ]
    },
    {
      "cell_type": "code",
      "execution_count": null,
      "id": "e80343a7-4426-4c56-84e9-89dd950098ec",
      "metadata": {
        "id": "e80343a7-4426-4c56-84e9-89dd950098ec",
        "outputId": "06df4bce-d975-417e-fe44-6fb8ddfcfeff"
      },
      "outputs": [
        {
          "name": "stdout",
          "output_type": "stream",
          "text": [
            "Average accuracy: 0.97\n"
          ]
        }
      ],
      "source": [
        "# Calculate the average accuracy\n",
        "mean_accuracy = np.mean(...)\n",
        "print(f\"Average accuracy: {mean_accuracy:.2f}\")"
      ]
    },
    {
      "cell_type": "markdown",
      "id": "a792ec90-0460-43fe-9111-e6b2e137a811",
      "metadata": {
        "tags": [],
        "id": "a792ec90-0460-43fe-9111-e6b2e137a811"
      },
      "source": [
        "## K Fold Cross Validation"
      ]
    },
    {
      "cell_type": "code",
      "execution_count": null,
      "id": "51252dbe-4de9-411b-83f4-72c39c186b31",
      "metadata": {
        "id": "51252dbe-4de9-411b-83f4-72c39c186b31"
      },
      "outputs": [],
      "source": [
        "import pandas as pd\n",
        "from sklearn.model_selection import ...\n",
        "from sklearn.linear_model import LogisticRegression\n",
        "from sklearn.metrics import accuracy_score\n",
        "from sklearn.preprocessing import StandardScaler"
      ]
    },
    {
      "cell_type": "code",
      "execution_count": null,
      "id": "57f966fb-3e6f-456a-b7a8-68c7d8aee780",
      "metadata": {
        "id": "57f966fb-3e6f-456a-b7a8-68c7d8aee780"
      },
      "outputs": [],
      "source": [
        "data = pd.read_csv('...')"
      ]
    },
    {
      "cell_type": "code",
      "execution_count": null,
      "id": "5333eb9a-3f00-4dce-9b89-3f59a2d04302",
      "metadata": {
        "id": "5333eb9a-3f00-4dce-9b89-3f59a2d04302",
        "outputId": "6eeab9dc-73a7-43d0-9c2a-4c5eeb60ef71"
      },
      "outputs": [
        {
          "data": {
            "text/plain": [
              "PassengerId      0\n",
              "Survived         0\n",
              "Pclass           0\n",
              "Name             0\n",
              "Sex              0\n",
              "Age            177\n",
              "SibSp            0\n",
              "Parch            0\n",
              "Ticket           0\n",
              "Fare             0\n",
              "Cabin          687\n",
              "Embarked         2\n",
              "dtype: int64"
            ]
          },
          "execution_count": 32,
          "metadata": {},
          "output_type": "execute_result"
        }
      ],
      "source": [
        "data.isnull().sum()"
      ]
    },
    {
      "cell_type": "code",
      "execution_count": null,
      "id": "dadbf204-c588-46d2-9370-29110a57715e",
      "metadata": {
        "id": "dadbf204-c588-46d2-9370-29110a57715e"
      },
      "outputs": [],
      "source": [
        "# Mengisi nilai missing value\n",
        "data['Age'].fillna(data['Age']....(), inplace=True)\n",
        "data['Embarked'].fillna(data['Embarked']....()[0], inplace=True)"
      ]
    },
    {
      "cell_type": "code",
      "execution_count": null,
      "id": "e99afb24-e7a7-4c28-ba6f-ca4592576387",
      "metadata": {
        "id": "e99afb24-e7a7-4c28-ba6f-ca4592576387"
      },
      "outputs": [],
      "source": [
        "# Mengubah data kategorikal menjadi numerik\n",
        "data = pd.get_dummies(data, columns=['Sex', 'Embarked'], drop_first=True)"
      ]
    },
    {
      "cell_type": "code",
      "execution_count": null,
      "id": "1c01cd73-e37b-4e08-a888-d23b242ae972",
      "metadata": {
        "id": "1c01cd73-e37b-4e08-a888-d23b242ae972"
      },
      "outputs": [],
      "source": [
        "X = data[['Pclass', 'Age', 'SibSp', 'Parch', 'Fare', 'Sex_male', 'Embarked_Q', 'Embarked_S']].values\n",
        "y = data['...'].values"
      ]
    },
    {
      "cell_type": "code",
      "execution_count": null,
      "id": "642b906a-8af8-4657-bfd1-1eaec6315746",
      "metadata": {
        "id": "642b906a-8af8-4657-bfd1-1eaec6315746"
      },
      "outputs": [],
      "source": [
        "scaler = ...()\n",
        "X = ....fit_transform(X)"
      ]
    },
    {
      "cell_type": "code",
      "execution_count": null,
      "id": "7aaf79b0-02ff-4125-a3b9-1afe6ba7e436",
      "metadata": {
        "id": "7aaf79b0-02ff-4125-a3b9-1afe6ba7e436"
      },
      "outputs": [],
      "source": [
        "# Definisikan jumlah fold\n",
        "k = 5"
      ]
    },
    {
      "cell_type": "code",
      "execution_count": null,
      "id": "e615c72f-89d1-4f4d-b459-754814eac8e9",
      "metadata": {
        "id": "e615c72f-89d1-4f4d-b459-754814eac8e9"
      },
      "outputs": [],
      "source": [
        "# Inisialisasi KFold\n",
        "kf = ...(n_splits=k, shuffle=True, random_state=42)"
      ]
    },
    {
      "cell_type": "code",
      "execution_count": null,
      "id": "a3c1cadd-59ae-4cd6-af94-f591e69a3138",
      "metadata": {
        "id": "a3c1cadd-59ae-4cd6-af94-f591e69a3138"
      },
      "outputs": [],
      "source": [
        "accuracy_scores = []"
      ]
    },
    {
      "cell_type": "code",
      "execution_count": null,
      "id": "47d1c761-c978-4200-a005-a4fc8b5ea237",
      "metadata": {
        "id": "47d1c761-c978-4200-a005-a4fc8b5ea237"
      },
      "outputs": [],
      "source": [
        "for train_index, test_index in kf.split(X):\n",
        "    X_train, X_test = X[train_index], X[test_index]\n",
        "    y_train, y_test = y[train_index], y[test_index]\n",
        "\n",
        "    # Inisialisasi dan latih model\n",
        "    model = LogisticRegression(max_iter=1000)\n",
        "    model.fit(X_train, y_train)\n",
        "\n",
        "    # Prediksi dan evaluasi\n",
        "    y_pred = model.predict(X_test)\n",
        "    accuracy = accuracy_score(y_test, y_pred)\n",
        "    accuracy_scores.append(accuracy)"
      ]
    },
    {
      "cell_type": "code",
      "execution_count": null,
      "id": "51b14617-d340-4be6-afab-8b25427bc37b",
      "metadata": {
        "id": "51b14617-d340-4be6-afab-8b25427bc37b"
      },
      "outputs": [],
      "source": [
        "average_accuracy = np.mean(accuracy_scores)"
      ]
    },
    {
      "cell_type": "code",
      "execution_count": null,
      "id": "ad4df518-15e6-4a9a-8ab2-3a0668b0ed8d",
      "metadata": {
        "id": "ad4df518-15e6-4a9a-8ab2-3a0668b0ed8d"
      },
      "outputs": [],
      "source": [
        "print(f\"Accuracy scores for each fold: {accuracy_scores}\")\n",
        "print(f\"Average accuracy: {average_accuracy}\")"
      ]
    }
  ],
  "metadata": {
    "kernelspec": {
      "display_name": "Python 3 (ipykernel)",
      "language": "python",
      "name": "python3"
    },
    "language_info": {
      "codemirror_mode": {
        "name": "ipython",
        "version": 3
      },
      "file_extension": ".py",
      "mimetype": "text/x-python",
      "name": "python",
      "nbconvert_exporter": "python",
      "pygments_lexer": "ipython3",
      "version": "3.9.13"
    },
    "colab": {
      "provenance": [],
      "include_colab_link": true
    }
  },
  "nbformat": 4,
  "nbformat_minor": 5
}